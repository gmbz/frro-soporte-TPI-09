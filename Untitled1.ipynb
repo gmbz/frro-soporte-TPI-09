{
 "cells": [
  {
   "cell_type": "code",
   "execution_count": 1,
   "id": "513619ce-d06a-478c-9130-e101a519ef60",
   "metadata": {},
   "outputs": [],
   "source": [
    "from sqlalchemy import Column, Integer, String, ForeignKey, Table\n",
    "from sqlalchemy.orm import relationship\n",
    "from sqlalchemy.ext.declarative import declarative_base\n",
    "\n",
    "Base = declarative_base()"
   ]
  },
  {
   "cell_type": "code",
   "execution_count": 2,
   "id": "a534811d-c6c5-4c16-8df0-41bc39dbb87d",
   "metadata": {},
   "outputs": [],
   "source": [
    "class Usuario(Base):\n",
    "\n",
    "    __tablename__ = 'usuario'\n",
    "    id = Column(Integer, primary_key = True, autoincrement = True)\n",
    "    username = Column(String(250), unique = True)\n",
    "    password = Column(String(250))\n",
    "    email = Column(String(250))\n",
    "\n",
    "    comments = relationship(\"Comentario\", backref='user')\n",
    "\n",
    "class Comentario(Base):\n",
    "    __tablename__ = 'comentario'\n",
    "\n",
    "    id = Column(Integer, primary_key = True, autoincrement = True)\n",
    "    contenido = Column(String(250))\n",
    "    id_usuario = Column(Integer, ForeignKey('usuario.id'), unique = False)\n",
    "    id_pelicula = Column(Integer, ForeignKey('pelicula.id'), unique = False)\n",
    "\n",
    "class Movie(Base):\n",
    "    __tablename__ = 'pelicula'\n",
    "    \n",
    "    id = Column(Integer, primary_key = True)\n",
    "    titulo = Column(String(250), unique = True)\n",
    "    \n",
    "    comments = relationship(\"Comentario\", backref='movie')\n",
    "    generos = relationship(\"Genero\", secondary = \"genre_movie\", back_populates = \"peliculas\")\n",
    "\n",
    "class Genero(Base):\n",
    "    __tablename__ = 'genero'\n",
    "    \n",
    "    id = Column(Integer, primary_key = True)\n",
    "    nombre = Column(String(255))\n",
    "    \n",
    "    peliculas = relationship(\"Movie\", secondary = \"genre_movie\", back_populates = \"generos\")\n",
    "\n",
    "class GenreMovie(Base):\n",
    "    __tablename__ = 'genre_movie'\n",
    "    \n",
    "    id_movie = Column(Integer, ForeignKey('pelicula.id'), primary_key=True)\n",
    "    id_genero = Column(Integer, ForeignKey('genero.id'), primary_key=True)\n",
    "    \n",
    "    pelicula = relationship(\"Movie\", backref = \"genre_movie\")\n",
    "    genero = relationship(\"Genero\", backref = \"genre_movie\")\n"
   ]
  },
  {
   "cell_type": "code",
   "execution_count": 3,
   "id": "f46d984b-afb0-4d1a-90fd-7e99069aa097",
   "metadata": {},
   "outputs": [],
   "source": [
    "from sqlalchemy import create_engine\n",
    "from sqlalchemy.orm import sessionmaker\n",
    "engine = create_engine('sqlite:///app/database/tpidatabase3.db')\n",
    "Base.metadata.bind = engine\n",
    "Session = sessionmaker(bind=engine)\n",
    "session = Session()\n",
    "\n",
    "try:\n",
    "    Base.metadata.create_all(engine)\n",
    "except:\n",
    "    pass"
   ]
  },
  {
   "cell_type": "code",
   "execution_count": 5,
   "id": "1708f274-1f55-450e-8297-b69aa32e04f2",
   "metadata": {},
   "outputs": [],
   "source": [
    "u1 = Usuario(id=1, username='prueba1')\n",
    "u2 = Usuario(id=2, username='prueba2')\n",
    "u3 = Usuario(id=3, username='prueba3')\n",
    "u4 = Usuario(id=4, username='prueba4')\n",
    "\n",
    "c1 = Comentario(contenido=\"comentario 1\")\n",
    "c2 = Comentario(contenido=\"comentario 2\")\n",
    "c3 = Comentario(contenido=\"comentario 3\")\n",
    "c4 = Comentario(contenido=\"comentario 4\")\n",
    "\n",
    "p1 = Movie(id=1, titulo=\"peli 1\")\n"
   ]
  },
  {
   "cell_type": "code",
   "execution_count": 6,
   "id": "2f545c40-b2c0-4300-a059-fce288897fa8",
   "metadata": {},
   "outputs": [],
   "source": [
    "u1.comments.append(c1)\n",
    "u2.comments.append(c2)\n",
    "u3.comments.append(c3)\n",
    "u4.comments.append(c4)\n",
    "\n",
    "p1.comments.append(c1)\n",
    "p1.comments.append(c2)\n",
    "p1.comments.append(c3)\n",
    "p1.comments.append(c4)"
   ]
  },
  {
   "cell_type": "code",
   "execution_count": 7,
   "id": "3a8d5200-28ed-4d58-a837-feb5087aa04f",
   "metadata": {},
   "outputs": [],
   "source": [
    "session.add(c1)\n",
    "session.add(c2)\n",
    "session.add(c3)\n",
    "session.add(c4)"
   ]
  },
  {
   "cell_type": "code",
   "execution_count": 8,
   "id": "a6a05191-acac-4d5b-b853-aa612e22edda",
   "metadata": {},
   "outputs": [],
   "source": [
    "session.commit()"
   ]
  },
  {
   "cell_type": "code",
   "execution_count": 18,
   "id": "2e874a69-6e2e-49fc-a941-422a717d8b47",
   "metadata": {},
   "outputs": [
    {
     "ename": "SyntaxError",
     "evalue": "cannot assign to function call (<ipython-input-18-ad549520e7a3>, line 1)",
     "output_type": "error",
     "traceback": [
      "\u001b[1;36m  File \u001b[1;32m\"<ipython-input-18-ad549520e7a3>\"\u001b[1;36m, line \u001b[1;32m1\u001b[0m\n\u001b[1;33m    list(comentarios) = session.query(Comentario).filter(Comentario.id_pelicula == 1)\u001b[0m\n\u001b[1;37m    ^\u001b[0m\n\u001b[1;31mSyntaxError\u001b[0m\u001b[1;31m:\u001b[0m cannot assign to function call\n"
     ]
    }
   ],
   "source": [
    "comentarios = session.query(Comentario).filter(Comentario.id_pelicula == 1)"
   ]
  },
  {
   "cell_type": "code",
   "execution_count": 19,
   "id": "6c926aca-93bd-4735-8f94-344ab852b3bd",
   "metadata": {},
   "outputs": [
    {
     "data": {
      "text/plain": [
       "list"
      ]
     },
     "execution_count": 19,
     "metadata": {},
     "output_type": "execute_result"
    }
   ],
   "source": [
    "type(list(comentarios))"
   ]
  },
  {
   "cell_type": "code",
   "execution_count": 13,
   "id": "c1e10f0f-2b1e-4b4e-b56d-fcd30d2834c7",
   "metadata": {},
   "outputs": [
    {
     "name": "stdout",
     "output_type": "stream",
     "text": [
      "1\n",
      "2\n",
      "3\n",
      "4\n"
     ]
    }
   ],
   "source": [
    "for c in comentarios:\n",
    "    print (c.id_usuario)"
   ]
  },
  {
   "cell_type": "code",
   "execution_count": 43,
   "id": "91f80f90-83b0-4730-bec6-5c1411dc93c8",
   "metadata": {},
   "outputs": [],
   "source": [
    "u_c = session.query(Usuario,Comentario).filter(Usuario.id == Comentario.id_usuario)"
   ]
  },
  {
   "cell_type": "code",
   "execution_count": 47,
   "id": "dd37c7ea-d93d-4a10-b8ea-b377e3e46ad9",
   "metadata": {},
   "outputs": [
    {
     "ename": "AttributeError",
     "evalue": "Could not locate column in row for column 'id'",
     "output_type": "error",
     "traceback": [
      "\u001b[1;31m---------------------------------------------------------------------------\u001b[0m",
      "\u001b[1;31mAttributeError\u001b[0m                            Traceback (most recent call last)",
      "\u001b[1;32m<ipython-input-47-40acf5907298>\u001b[0m in \u001b[0;36m<module>\u001b[1;34m\u001b[0m\n\u001b[1;32m----> 1\u001b[1;33m \u001b[1;33m[\u001b[0m\u001b[0mu\u001b[0m\u001b[1;33m.\u001b[0m\u001b[0mid\u001b[0m \u001b[1;32mfor\u001b[0m \u001b[0mu\u001b[0m \u001b[1;32min\u001b[0m \u001b[0mu_c\u001b[0m\u001b[1;33m]\u001b[0m\u001b[1;33m\u001b[0m\u001b[1;33m\u001b[0m\u001b[0m\n\u001b[0m",
      "\u001b[1;32m<ipython-input-47-40acf5907298>\u001b[0m in \u001b[0;36m<listcomp>\u001b[1;34m(.0)\u001b[0m\n\u001b[1;32m----> 1\u001b[1;33m \u001b[1;33m[\u001b[0m\u001b[0mu\u001b[0m\u001b[1;33m.\u001b[0m\u001b[0mid\u001b[0m \u001b[1;32mfor\u001b[0m \u001b[0mu\u001b[0m \u001b[1;32min\u001b[0m \u001b[0mu_c\u001b[0m\u001b[1;33m]\u001b[0m\u001b[1;33m\u001b[0m\u001b[1;33m\u001b[0m\u001b[0m\n\u001b[0m",
      "\u001b[1;31mAttributeError\u001b[0m: Could not locate column in row for column 'id'"
     ]
    }
   ],
   "source": [
    "[u.id for u in u_c]"
   ]
  },
  {
   "cell_type": "code",
   "execution_count": 45,
   "id": "fa7ce5c8-e821-46a9-a93b-9566e474efc7",
   "metadata": {},
   "outputs": [
    {
     "data": {
      "text/plain": [
       "sqlalchemy.orm.query.Query"
      ]
     },
     "execution_count": 45,
     "metadata": {},
     "output_type": "execute_result"
    }
   ],
   "source": [
    "type(u_c)"
   ]
  },
  {
   "cell_type": "code",
   "execution_count": 39,
   "id": "d0b0300b-bbda-4bd0-bf89-58ffae4f97e2",
   "metadata": {},
   "outputs": [
    {
     "name": "stdout",
     "output_type": "stream",
     "text": [
      "prueba4\n",
      "prueba4\n",
      "prueba4\n",
      "prueba4\n"
     ]
    }
   ],
   "source": [
    "for c in comentarios:\n",
    "    if c.id_usuario in [u.id for u in u_c]:\n",
    "        print (u.username)"
   ]
  },
  {
   "cell_type": "code",
   "execution_count": 40,
   "id": "8ef743a3-ebd6-4033-a12f-1983ff8fce0d",
   "metadata": {},
   "outputs": [
    {
     "name": "stdout",
     "output_type": "stream",
     "text": [
      "prueba1\n",
      "prueba2\n",
      "prueba3\n",
      "prueba4\n"
     ]
    }
   ],
   "source": [
    "for c in comentarios:\n",
    "    for u in u_c:\n",
    "        if c.id_usuario==u.id:\n",
    "            print(u.username)"
   ]
  },
  {
   "cell_type": "code",
   "execution_count": 42,
   "id": "fb914b7f-62af-4010-a5ee-605fbedbf4fb",
   "metadata": {},
   "outputs": [
    {
     "ename": "AttributeError",
     "evalue": "'Usuario' object has no attribute 'Comentario'",
     "output_type": "error",
     "traceback": [
      "\u001b[1;31m---------------------------------------------------------------------------\u001b[0m",
      "\u001b[1;31mAttributeError\u001b[0m                            Traceback (most recent call last)",
      "\u001b[1;32m<ipython-input-42-8ee7c86d0ee2>\u001b[0m in \u001b[0;36m<module>\u001b[1;34m\u001b[0m\n\u001b[1;32m----> 1\u001b[1;33m \u001b[1;33m[\u001b[0m\u001b[0mu\u001b[0m\u001b[1;33m.\u001b[0m\u001b[0mComentario\u001b[0m\u001b[1;33m.\u001b[0m\u001b[0mcontenido\u001b[0m \u001b[1;32mfor\u001b[0m \u001b[0mu\u001b[0m \u001b[1;32min\u001b[0m \u001b[0mu_c\u001b[0m\u001b[1;33m]\u001b[0m\u001b[1;33m\u001b[0m\u001b[1;33m\u001b[0m\u001b[0m\n\u001b[0m",
      "\u001b[1;32m<ipython-input-42-8ee7c86d0ee2>\u001b[0m in \u001b[0;36m<listcomp>\u001b[1;34m(.0)\u001b[0m\n\u001b[1;32m----> 1\u001b[1;33m \u001b[1;33m[\u001b[0m\u001b[0mu\u001b[0m\u001b[1;33m.\u001b[0m\u001b[0mComentario\u001b[0m\u001b[1;33m.\u001b[0m\u001b[0mcontenido\u001b[0m \u001b[1;32mfor\u001b[0m \u001b[0mu\u001b[0m \u001b[1;32min\u001b[0m \u001b[0mu_c\u001b[0m\u001b[1;33m]\u001b[0m\u001b[1;33m\u001b[0m\u001b[1;33m\u001b[0m\u001b[0m\n\u001b[0m",
      "\u001b[1;31mAttributeError\u001b[0m: 'Usuario' object has no attribute 'Comentario'"
     ]
    }
   ],
   "source": [
    "[u.Comentario.contenido for u in u_c]"
   ]
  },
  {
   "cell_type": "code",
   "execution_count": 49,
   "id": "fce19bf0-6c0c-4382-825a-4859cef9dc04",
   "metadata": {},
   "outputs": [
    {
     "name": "stdout",
     "output_type": "stream",
     "text": [
      "prueba1\n",
      "prueba2\n",
      "prueba3\n",
      "prueba4\n"
     ]
    }
   ],
   "source": [
    "for c in comentarios:\n",
    "    print(c.user.username)"
   ]
  },
  {
   "cell_type": "code",
   "execution_count": null,
   "id": "3eb2c32e-9276-44ae-86a3-0674f02a36c6",
   "metadata": {},
   "outputs": [],
   "source": []
  }
 ],
 "metadata": {
  "kernelspec": {
   "display_name": "Python 3",
   "language": "python",
   "name": "python3"
  },
  "language_info": {
   "codemirror_mode": {
    "name": "ipython",
    "version": 3
   },
   "file_extension": ".py",
   "mimetype": "text/x-python",
   "name": "python",
   "nbconvert_exporter": "python",
   "pygments_lexer": "ipython3",
   "version": "3.8.8"
  }
 },
 "nbformat": 4,
 "nbformat_minor": 5
}
