{
 "cells": [
  {
   "cell_type": "code",
   "execution_count": 1,
   "source": [
    "from sqlalchemy import Column, Integer, String, ForeignKey, Table\r\n",
    "from sqlalchemy.orm import relationship\r\n",
    "from sqlalchemy.ext.declarative import declarative_base\r\n",
    "\r\n",
    "Base = declarative_base()"
   ],
   "outputs": [],
   "metadata": {}
  },
  {
   "cell_type": "code",
   "execution_count": 2,
   "source": [
    "class Usuario(Base):\r\n",
    "\r\n",
    "    __tablename__ = 'usuario'\r\n",
    "    id = Column(Integer, primary_key = True, autoincrement = True)\r\n",
    "    username = Column(String(250), unique = True)\r\n",
    "    password = Column(String(250))\r\n",
    "    email = Column(String(250))\r\n",
    "\r\n",
    "    comments = relationship(\"Comentario\", backref='user')\r\n",
    "\r\n",
    "class Comentario(Base):\r\n",
    "    __tablename__ = 'comentario'\r\n",
    "\r\n",
    "    id = Column(Integer, primary_key = True, autoincrement = True)\r\n",
    "    contenido = Column(String(250))\r\n",
    "    id_usuario = Column(Integer, ForeignKey('usuario.id'), unique = False)\r\n",
    "    id_pelicula = Column(Integer, ForeignKey('pelicula.id'), unique = False)\r\n",
    "\r\n",
    "class Movie(Base):\r\n",
    "    __tablename__ = 'pelicula'\r\n",
    "    \r\n",
    "    id = Column(Integer, primary_key = True)\r\n",
    "    titulo = Column(String(250), unique = True)\r\n",
    "    \r\n",
    "    comments = relationship(\"Comentario\", backref='movie')\r\n",
    "    generos = relationship(\"Genero\", secondary = \"genre_movie\", back_populates = \"peliculas\")\r\n",
    "\r\n",
    "class Genero(Base):\r\n",
    "    __tablename__ = 'genero'\r\n",
    "    \r\n",
    "    id = Column(Integer, primary_key = True)\r\n",
    "    nombre = Column(String(255))\r\n",
    "    \r\n",
    "    peliculas = relationship(\"Movie\", secondary = \"genre_movie\", back_populates = \"generos\")\r\n",
    "\r\n",
    "class GenreMovie(Base):\r\n",
    "    __tablename__ = 'genre_movie'\r\n",
    "    \r\n",
    "    id_movie = Column(Integer, ForeignKey('pelicula.id'), primary_key=True)\r\n",
    "    id_genero = Column(Integer, ForeignKey('genero.id'), primary_key=True)\r\n",
    "    \r\n",
    "    pelicula = relationship(\"Movie\", backref = \"genre_movie\")\r\n",
    "    genero = relationship(\"Genero\", backref = \"genre_movie\")\r\n"
   ],
   "outputs": [],
   "metadata": {}
  },
  {
   "cell_type": "code",
   "execution_count": 3,
   "source": [
    "from sqlalchemy import create_engine\r\n",
    "from sqlalchemy.orm import sessionmaker\r\n",
    "engine = create_engine('sqlite:///app/database/tpidatabase2.db')\r\n",
    "Base.metadata.bind = engine\r\n",
    "Session = sessionmaker(bind=engine)\r\n",
    "session = Session()\r\n",
    "\r\n",
    "try:\r\n",
    "    Base.metadata.create_all(engine)\r\n",
    "except:\r\n",
    "    pass"
   ],
   "outputs": [],
   "metadata": {}
  },
  {
   "cell_type": "code",
   "execution_count": null,
   "source": [
    "u1 = Usuario(username='prueba', password='1234', email='prueba@gmail.com')\r\n",
    "p1 = Movie(id=436969)\r\n",
    "g1 = Genero(id=28, nombre='Action')\r\n",
    "g2 = Genero(id=12, nombre='Adventure')\r\n",
    "g3 = Genero(id=14, nombre='Fantasy')\r\n",
    "g4 = Genero(id=35, nombre='Comedy')\r\n",
    "p1.generos.append(g1)\r\n",
    "p1.generos.append(g2)\r\n",
    "p1.generos.append(g3)\r\n",
    "p1.generos.append(g4)\r\n",
    "c1 = Comentario(contenido='comentario de prueba', user=u1, movie=p1)\r\n",
    "session.add(c1)\r\n",
    "session.commit()"
   ],
   "outputs": [],
   "metadata": {}
  },
  {
   "cell_type": "code",
   "execution_count": 4,
   "source": [
    "c1 = Comentario(contenido='comentario de prueba3')\r\n"
   ],
   "outputs": [
    {
     "output_type": "stream",
     "name": "stderr",
     "text": [
      "D:\\Program files\\anaconda3\\lib\\site-packages\\sqlalchemy\\orm\\relationships.py:3441: SAWarning: relationship 'Movie.genre_movie' will copy column pelicula.id to column genre_movie.id_movie, which conflicts with relationship(s): 'Movie.generos' (copies pelicula.id to genre_movie.id_movie), 'Genero.peliculas' (copies pelicula.id to genre_movie.id_movie). If this is not the intention, consider if these relationships should be linked with back_populates, or if viewonly=True should be applied to one or more if they are read-only. For the less common case that foreign key constraints are partially overlapping, the orm.foreign() annotation can be used to isolate the columns that should be written towards.   The 'overlaps' parameter may be used to remove this warning. (Background on this error at: http://sqlalche.me/e/14/qzyx)\n",
      "  util.warn(\n",
      "D:\\Program files\\anaconda3\\lib\\site-packages\\sqlalchemy\\orm\\relationships.py:3441: SAWarning: relationship 'GenreMovie.pelicula' will copy column pelicula.id to column genre_movie.id_movie, which conflicts with relationship(s): 'Movie.generos' (copies pelicula.id to genre_movie.id_movie), 'Genero.peliculas' (copies pelicula.id to genre_movie.id_movie). If this is not the intention, consider if these relationships should be linked with back_populates, or if viewonly=True should be applied to one or more if they are read-only. For the less common case that foreign key constraints are partially overlapping, the orm.foreign() annotation can be used to isolate the columns that should be written towards.   The 'overlaps' parameter may be used to remove this warning. (Background on this error at: http://sqlalche.me/e/14/qzyx)\n",
      "  util.warn(\n",
      "D:\\Program files\\anaconda3\\lib\\site-packages\\sqlalchemy\\orm\\relationships.py:3441: SAWarning: relationship 'Genero.genre_movie' will copy column genero.id to column genre_movie.id_genero, which conflicts with relationship(s): 'Movie.generos' (copies genero.id to genre_movie.id_genero), 'Genero.peliculas' (copies genero.id to genre_movie.id_genero). If this is not the intention, consider if these relationships should be linked with back_populates, or if viewonly=True should be applied to one or more if they are read-only. For the less common case that foreign key constraints are partially overlapping, the orm.foreign() annotation can be used to isolate the columns that should be written towards.   The 'overlaps' parameter may be used to remove this warning. (Background on this error at: http://sqlalche.me/e/14/qzyx)\n",
      "  util.warn(\n",
      "D:\\Program files\\anaconda3\\lib\\site-packages\\sqlalchemy\\orm\\relationships.py:3441: SAWarning: relationship 'GenreMovie.genero' will copy column genero.id to column genre_movie.id_genero, which conflicts with relationship(s): 'Movie.generos' (copies genero.id to genre_movie.id_genero), 'Genero.peliculas' (copies genero.id to genre_movie.id_genero). If this is not the intention, consider if these relationships should be linked with back_populates, or if viewonly=True should be applied to one or more if they are read-only. For the less common case that foreign key constraints are partially overlapping, the orm.foreign() annotation can be used to isolate the columns that should be written towards.   The 'overlaps' parameter may be used to remove this warning. (Background on this error at: http://sqlalche.me/e/14/qzyx)\n",
      "  util.warn(\n"
     ]
    }
   ],
   "metadata": {}
  },
  {
   "cell_type": "code",
   "execution_count": 5,
   "source": [
    "u1 = Usuario(username='prueba', password='1234', email='prueba@gmail.com')\r\n",
    "p1 = Movie(id=588228)"
   ],
   "outputs": [],
   "metadata": {}
  },
  {
   "cell_type": "code",
   "execution_count": 6,
   "source": [
    "up = session.query(Usuario).filter(Usuario.username==u1.username).first()\r\n",
    "peli = session.query(Movie).filter(Movie.id==p1.id).first()"
   ],
   "outputs": [],
   "metadata": {}
  },
  {
   "cell_type": "code",
   "execution_count": 7,
   "source": [
    "up.comments.append(c1)\r\n",
    "peli.comments.append(c1)"
   ],
   "outputs": [
    {
     "output_type": "error",
     "ename": "AttributeError",
     "evalue": "'NoneType' object has no attribute 'comments'",
     "traceback": [
      "\u001b[1;31m---------------------------------------------------------------------------\u001b[0m",
      "\u001b[1;31mAttributeError\u001b[0m                            Traceback (most recent call last)",
      "\u001b[1;32m<ipython-input-7-8e07aeccf6c5>\u001b[0m in \u001b[0;36m<module>\u001b[1;34m\u001b[0m\n\u001b[0;32m      1\u001b[0m \u001b[0mup\u001b[0m\u001b[1;33m.\u001b[0m\u001b[0mcomments\u001b[0m\u001b[1;33m.\u001b[0m\u001b[0mappend\u001b[0m\u001b[1;33m(\u001b[0m\u001b[0mc1\u001b[0m\u001b[1;33m)\u001b[0m\u001b[1;33m\u001b[0m\u001b[1;33m\u001b[0m\u001b[0m\n\u001b[1;32m----> 2\u001b[1;33m \u001b[0mpeli\u001b[0m\u001b[1;33m.\u001b[0m\u001b[0mcomments\u001b[0m\u001b[1;33m.\u001b[0m\u001b[0mappend\u001b[0m\u001b[1;33m(\u001b[0m\u001b[0mc1\u001b[0m\u001b[1;33m)\u001b[0m\u001b[1;33m\u001b[0m\u001b[1;33m\u001b[0m\u001b[0m\n\u001b[0m",
      "\u001b[1;31mAttributeError\u001b[0m: 'NoneType' object has no attribute 'comments'"
     ]
    }
   ],
   "metadata": {}
  },
  {
   "cell_type": "code",
   "execution_count": 21,
   "source": [
    "session.add(c1)\r\n",
    "session.commit()"
   ],
   "outputs": [],
   "metadata": {}
  },
  {
   "cell_type": "markdown",
   "source": [
    "# PRUEBA 2"
   ],
   "metadata": {}
  },
  {
   "cell_type": "code",
   "execution_count": null,
   "source": [
    "from sqlalchemy import Column, Integer, String, ForeignKey, Table\r\n",
    "from sqlalchemy.orm import relationship\r\n",
    "from sqlalchemy.ext.declarative import declarative_base\r\n",
    "\r\n",
    "Base = declarative_base()"
   ],
   "outputs": [],
   "metadata": {}
  },
  {
   "cell_type": "code",
   "execution_count": null,
   "source": [
    "class Usuario(Base):\r\n",
    "\r\n",
    "    __tablename__ = 'usuario'\r\n",
    "    id = Column(Integer, primary_key = True, autoincrement = True)\r\n",
    "    username = Column(String(250), unique = True)\r\n",
    "    password = Column(String(250))\r\n",
    "    email = Column(String(250))\r\n",
    "\r\n",
    "    comments = relationship(\"Comentario\", backref='user')\r\n",
    "\r\n",
    "class Comentario(Base):\r\n",
    "    __tablename__ = 'comentario'\r\n",
    "\r\n",
    "    id = Column(Integer, primary_key = True, autoincrement = True)\r\n",
    "    contenido = Column(String(250))\r\n",
    "    id_usuario = Column(Integer, ForeignKey('usuario.id'), unique = False)\r\n",
    "    id_pelicula = Column(Integer, ForeignKey('pelicula.id'), unique = False)\r\n",
    "\r\n",
    "class Movie(Base):\r\n",
    "    __tablename__ = 'pelicula'\r\n",
    "    \r\n",
    "    id = Column(Integer, primary_key = True)\r\n",
    "    titulo = Column(String(250), unique = True)\r\n",
    "    \r\n",
    "    comments = relationship(\"Comentario\", backref='movie')\r\n",
    "    generos = relationship(\"Genero\", secondary = \"genre_movie\", back_populates = \"peliculas\")\r\n",
    "\r\n",
    "class Genero(Base):\r\n",
    "    __tablename__ = 'genero'\r\n",
    "    \r\n",
    "    id = Column(Integer, primary_key = True)\r\n",
    "    nombre = Column(String(255))\r\n",
    "    \r\n",
    "    peliculas = relationship(\"Movie\", secondary = \"genre_movie\", back_populates = \"generos\")\r\n",
    "\r\n",
    "class GenreMovie(Base):\r\n",
    "    __tablename__ = 'genre_movie'\r\n",
    "    \r\n",
    "    id_movie = Column(Integer, ForeignKey('pelicula.id'), primary_key=True)\r\n",
    "    id_genero = Column(Integer, ForeignKey('genero.id'), primary_key=True)\r\n",
    "    \r\n",
    "    pelicula = relationship(\"Movie\", backref = \"genre_movie\")\r\n",
    "    genero = relationship(\"Genero\", backref = \"genre_movie\")\r\n"
   ],
   "outputs": [],
   "metadata": {}
  },
  {
   "cell_type": "code",
   "execution_count": null,
   "source": [
    "from sqlalchemy import create_engine\r\n",
    "from sqlalchemy.orm import sessionmaker\r\n",
    "engine = create_engine('sqlite:///app/database/tpidatabase2.db')\r\n",
    "Base.metadata.bind = engine\r\n",
    "Session = sessionmaker(bind=engine)\r\n",
    "session = Session()\r\n",
    "\r\n",
    "try:\r\n",
    "    Base.metadata.create_all(engine)\r\n",
    "except:\r\n",
    "    pass"
   ],
   "outputs": [],
   "metadata": {}
  },
  {
   "cell_type": "code",
   "execution_count": null,
   "source": [
    "import requests\r\n",
    "api_key = \"25398bd0f8e1460f3769b59bfbf5eea6\"  \r\n",
    "def movie(movie_: Movie) -> Movie:\r\n",
    "    id_ = str(movie_.id)\r\n",
    "    query = (requests.get(\"https://api.themoviedb.org/3/movie/\"+id_+\"?api_key=\"+api_key+\"&language=es-ES\")).json()\r\n",
    "    genres = query['genres']\r\n",
    "    peli = Movie(id = query['id'],\r\n",
    "            titulo = query['title'],\r\n",
    "            descripcion = query['overview'],\r\n",
    "            portada = \"https://image.tmdb.org/t/p/w500/\"+query['poster_path'],\r\n",
    "            fecha = query['release_date'])\r\n",
    "    return peli\r\n"
   ],
   "outputs": [],
   "metadata": {}
  },
  {
   "cell_type": "code",
   "execution_count": null,
   "source": [
    "c1 = Comentario(contenido='comentario de prueba4')\r\n"
   ],
   "outputs": [
    {
     "output_type": "stream",
     "name": "stderr",
     "text": [
      "D:\\Program files\\anaconda3\\lib\\site-packages\\sqlalchemy\\orm\\relationships.py:3441: SAWarning: relationship 'Movie.genre_movie' will copy column pelicula.id to column genre_movie.id_movie, which conflicts with relationship(s): 'Movie.generos' (copies pelicula.id to genre_movie.id_movie), 'Genero.peliculas' (copies pelicula.id to genre_movie.id_movie). If this is not the intention, consider if these relationships should be linked with back_populates, or if viewonly=True should be applied to one or more if they are read-only. For the less common case that foreign key constraints are partially overlapping, the orm.foreign() annotation can be used to isolate the columns that should be written towards.   The 'overlaps' parameter may be used to remove this warning. (Background on this error at: http://sqlalche.me/e/14/qzyx)\n",
      "  util.warn(\n",
      "D:\\Program files\\anaconda3\\lib\\site-packages\\sqlalchemy\\orm\\relationships.py:3441: SAWarning: relationship 'GenreMovie.pelicula' will copy column pelicula.id to column genre_movie.id_movie, which conflicts with relationship(s): 'Movie.generos' (copies pelicula.id to genre_movie.id_movie), 'Genero.peliculas' (copies pelicula.id to genre_movie.id_movie). If this is not the intention, consider if these relationships should be linked with back_populates, or if viewonly=True should be applied to one or more if they are read-only. For the less common case that foreign key constraints are partially overlapping, the orm.foreign() annotation can be used to isolate the columns that should be written towards.   The 'overlaps' parameter may be used to remove this warning. (Background on this error at: http://sqlalche.me/e/14/qzyx)\n",
      "  util.warn(\n",
      "D:\\Program files\\anaconda3\\lib\\site-packages\\sqlalchemy\\orm\\relationships.py:3441: SAWarning: relationship 'Genero.genre_movie' will copy column genero.id to column genre_movie.id_genero, which conflicts with relationship(s): 'Movie.generos' (copies genero.id to genre_movie.id_genero), 'Genero.peliculas' (copies genero.id to genre_movie.id_genero). If this is not the intention, consider if these relationships should be linked with back_populates, or if viewonly=True should be applied to one or more if they are read-only. For the less common case that foreign key constraints are partially overlapping, the orm.foreign() annotation can be used to isolate the columns that should be written towards.   The 'overlaps' parameter may be used to remove this warning. (Background on this error at: http://sqlalche.me/e/14/qzyx)\n",
      "  util.warn(\n",
      "D:\\Program files\\anaconda3\\lib\\site-packages\\sqlalchemy\\orm\\relationships.py:3441: SAWarning: relationship 'GenreMovie.genero' will copy column genero.id to column genre_movie.id_genero, which conflicts with relationship(s): 'Movie.generos' (copies genero.id to genre_movie.id_genero), 'Genero.peliculas' (copies genero.id to genre_movie.id_genero). If this is not the intention, consider if these relationships should be linked with back_populates, or if viewonly=True should be applied to one or more if they are read-only. For the less common case that foreign key constraints are partially overlapping, the orm.foreign() annotation can be used to isolate the columns that should be written towards.   The 'overlaps' parameter may be used to remove this warning. (Background on this error at: http://sqlalche.me/e/14/qzyx)\n",
      "  util.warn(\n"
     ]
    }
   ],
   "metadata": {}
  },
  {
   "cell_type": "code",
   "execution_count": null,
   "source": [
    "u1 = Usuario(username='prueba', password='1234', email='prueba@gmail.com')\r\n",
    "p1 = Movie(id=588228)"
   ],
   "outputs": [],
   "metadata": {}
  },
  {
   "cell_type": "code",
   "execution_count": null,
   "source": [
    "up = session.query(Usuario).filter(Usuario.username==u1.username).first()\r\n",
    "peli = session.query(Movie).filter(Movie.id==p1.id).first()"
   ],
   "outputs": [],
   "metadata": {}
  },
  {
   "cell_type": "code",
   "execution_count": null,
   "source": [
    "up.comments.append(c1)\r\n",
    "peli.comments.append(c1)"
   ],
   "outputs": [
    {
     "output_type": "error",
     "ename": "AttributeError",
     "evalue": "'NoneType' object has no attribute 'comments'",
     "traceback": [
      "\u001b[1;31m---------------------------------------------------------------------------\u001b[0m\n",
      "\u001b[1;31mAttributeError\u001b[0m                            Traceback (most recent call last)\n",
      "\u001b[1;32m<ipython-input-7-8e07aeccf6c5>\u001b[0m in \u001b[0;36m<module>\u001b[1;34m\u001b[0m\n",
      "\u001b[0;32m      1\u001b[0m \u001b[0mup\u001b[0m\u001b[1;33m.\u001b[0m\u001b[0mcomments\u001b[0m\u001b[1;33m.\u001b[0m\u001b[0mappend\u001b[0m\u001b[1;33m(\u001b[0m\u001b[0mc1\u001b[0m\u001b[1;33m)\u001b[0m\u001b[1;33m\u001b[0m\u001b[1;33m\u001b[0m\u001b[0m\n",
      "\u001b[1;32m----> 2\u001b[1;33m \u001b[0mpeli\u001b[0m\u001b[1;33m.\u001b[0m\u001b[0mcomments\u001b[0m\u001b[1;33m.\u001b[0m\u001b[0mappend\u001b[0m\u001b[1;33m(\u001b[0m\u001b[0mc1\u001b[0m\u001b[1;33m)\u001b[0m\u001b[1;33m\u001b[0m\u001b[1;33m\u001b[0m\u001b[0m\n",
      "\u001b[0m\n",
      "\u001b[1;31mAttributeError\u001b[0m: 'NoneType' object has no attribute 'comments'"
     ]
    }
   ],
   "metadata": {}
  },
  {
   "cell_type": "code",
   "execution_count": null,
   "source": [
    "session.add(c1)\r\n",
    "session.commit()"
   ],
   "outputs": [],
   "metadata": {}
  }
 ],
 "metadata": {
  "interpreter": {
   "hash": "65a5d6a0ceec34fa378eb72132ece2d9d16b3f68cb770b1f1690468ace60ef46"
  },
  "kernelspec": {
   "name": "python3",
   "display_name": "Python 3.8.8 64-bit ('base': conda)"
  },
  "language_info": {
   "codemirror_mode": {
    "name": "ipython",
    "version": 3
   },
   "file_extension": ".py",
   "mimetype": "text/x-python",
   "name": "python",
   "nbconvert_exporter": "python",
   "pygments_lexer": "ipython3",
   "version": "3.8.8"
  }
 },
 "nbformat": 4,
 "nbformat_minor": 5
}