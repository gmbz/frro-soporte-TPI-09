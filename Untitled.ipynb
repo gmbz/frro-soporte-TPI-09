{
 "cells": [
  {
   "cell_type": "code",
   "execution_count": 1,
   "metadata": {},
   "outputs": [],
   "source": [
    "from sqlalchemy import Column, Integer, String, ForeignKey, Table\n",
    "from sqlalchemy.orm import relationship\n",
    "from sqlalchemy.ext.declarative import declarative_base\n",
    "\n",
    "Base = declarative_base()"
   ]
  },
  {
   "cell_type": "code",
   "execution_count": 2,
   "metadata": {},
   "outputs": [],
   "source": [
    "class Usuario(Base):\n",
    "\n",
    "    __tablename__ = 'usuario'\n",
    "    id = Column(Integer, primary_key = True, autoincrement = True)\n",
    "    username = Column(String(250), unique = True)\n",
    "    password = Column(String(250))\n",
    "    email = Column(String(250))\n",
    "\n",
    "    comments = relationship(\"Comentario\", backref='user')\n",
    "\n",
    "class Comentario(Base):\n",
    "    __tablename__ = 'comentario'\n",
    "\n",
    "    id = Column(Integer, primary_key = True, autoincrement = True)\n",
    "    contenido = Column(String(250))\n",
    "    id_usuario = Column(Integer, ForeignKey('usuario.id'), unique = False)\n",
    "    id_pelicula = Column(Integer, ForeignKey('pelicula.id'), unique = False)\n",
    "\n",
    "class Movie(Base):\n",
    "    __tablename__ = 'pelicula'\n",
    "    \n",
    "    id = Column(Integer, primary_key = True)\n",
    "    titulo = Column(String(250), unique = True)\n",
    "    \n",
    "    comments = relationship(\"Comentario\", backref='movie')\n",
    "    generos = relationship(\"Genero\", secondary = \"genre_movie\", back_populates = \"peliculas\")\n",
    "\n",
    "class Genero(Base):\n",
    "    __tablename__ = 'genero'\n",
    "    \n",
    "    id = Column(Integer, primary_key = True)\n",
    "    nombre = Column(String(255))\n",
    "    \n",
    "    peliculas = relationship(\"Movie\", secondary = \"genre_movie\", back_populates = \"generos\")\n",
    "\n",
    "class GenreMovie(Base):\n",
    "    __tablename__ = 'genre_movie'\n",
    "    \n",
    "    id_movie = Column(Integer, ForeignKey('pelicula.id'), primary_key=True)\n",
    "    id_genero = Column(Integer, ForeignKey('genero.id'), primary_key=True)\n",
    "    \n",
    "    pelicula = relationship(\"Movie\", backref = \"genre_movie\")\n",
    "    genero = relationship(\"Genero\", backref = \"genre_movie\")\n"
   ]
  },
  {
   "cell_type": "code",
   "execution_count": 3,
   "metadata": {},
   "outputs": [],
   "source": [
    "from sqlalchemy import create_engine\n",
    "from sqlalchemy.orm import sessionmaker\n",
    "engine = create_engine('sqlite:///app/database/tpidatabase2.db')\n",
    "Base.metadata.bind = engine\n",
    "Session = sessionmaker(bind=engine)\n",
    "session = Session()\n",
    "\n",
    "try:\n",
    "    Base.metadata.create_all(engine)\n",
    "except:\n",
    "    pass"
   ]
  },
  {
   "cell_type": "code",
   "execution_count": null,
   "metadata": {},
   "outputs": [],
   "source": [
    "u1 = Usuario(username='prueba', password='1234', email='prueba@gmail.com')\n",
    "p1 = Movie(id=436969)\n",
    "g1 = Genero(id=28, nombre='Action')\n",
    "g2 = Genero(id=12, nombre='Adventure')\n",
    "g3 = Genero(id=14, nombre='Fantasy')\n",
    "g4 = Genero(id=35, nombre='Comedy')\n",
    "p1.generos.append(g1)\n",
    "p1.generos.append(g2)\n",
    "p1.generos.append(g3)\n",
    "p1.generos.append(g4)\n",
    "c1 = Comentario(contenido='comentario de prueba', user=u1, movie=p1)\n",
    "session.add(c1)\n",
    "session.commit()"
   ]
  },
  {
   "cell_type": "code",
   "execution_count": 4,
   "metadata": {},
   "outputs": [
    {
     "name": "stderr",
     "output_type": "stream",
     "text": [
      "D:\\Program files\\anaconda3\\lib\\site-packages\\sqlalchemy\\orm\\relationships.py:3441: SAWarning: relationship 'Movie.genre_movie' will copy column pelicula.id to column genre_movie.id_movie, which conflicts with relationship(s): 'Movie.generos' (copies pelicula.id to genre_movie.id_movie), 'Genero.peliculas' (copies pelicula.id to genre_movie.id_movie). If this is not the intention, consider if these relationships should be linked with back_populates, or if viewonly=True should be applied to one or more if they are read-only. For the less common case that foreign key constraints are partially overlapping, the orm.foreign() annotation can be used to isolate the columns that should be written towards.   The 'overlaps' parameter may be used to remove this warning. (Background on this error at: http://sqlalche.me/e/14/qzyx)\n",
      "  util.warn(\n",
      "D:\\Program files\\anaconda3\\lib\\site-packages\\sqlalchemy\\orm\\relationships.py:3441: SAWarning: relationship 'GenreMovie.pelicula' will copy column pelicula.id to column genre_movie.id_movie, which conflicts with relationship(s): 'Movie.generos' (copies pelicula.id to genre_movie.id_movie), 'Genero.peliculas' (copies pelicula.id to genre_movie.id_movie). If this is not the intention, consider if these relationships should be linked with back_populates, or if viewonly=True should be applied to one or more if they are read-only. For the less common case that foreign key constraints are partially overlapping, the orm.foreign() annotation can be used to isolate the columns that should be written towards.   The 'overlaps' parameter may be used to remove this warning. (Background on this error at: http://sqlalche.me/e/14/qzyx)\n",
      "  util.warn(\n",
      "D:\\Program files\\anaconda3\\lib\\site-packages\\sqlalchemy\\orm\\relationships.py:3441: SAWarning: relationship 'Genero.genre_movie' will copy column genero.id to column genre_movie.id_genero, which conflicts with relationship(s): 'Movie.generos' (copies genero.id to genre_movie.id_genero), 'Genero.peliculas' (copies genero.id to genre_movie.id_genero). If this is not the intention, consider if these relationships should be linked with back_populates, or if viewonly=True should be applied to one or more if they are read-only. For the less common case that foreign key constraints are partially overlapping, the orm.foreign() annotation can be used to isolate the columns that should be written towards.   The 'overlaps' parameter may be used to remove this warning. (Background on this error at: http://sqlalche.me/e/14/qzyx)\n",
      "  util.warn(\n",
      "D:\\Program files\\anaconda3\\lib\\site-packages\\sqlalchemy\\orm\\relationships.py:3441: SAWarning: relationship 'GenreMovie.genero' will copy column genero.id to column genre_movie.id_genero, which conflicts with relationship(s): 'Movie.generos' (copies genero.id to genre_movie.id_genero), 'Genero.peliculas' (copies genero.id to genre_movie.id_genero). If this is not the intention, consider if these relationships should be linked with back_populates, or if viewonly=True should be applied to one or more if they are read-only. For the less common case that foreign key constraints are partially overlapping, the orm.foreign() annotation can be used to isolate the columns that should be written towards.   The 'overlaps' parameter may be used to remove this warning. (Background on this error at: http://sqlalche.me/e/14/qzyx)\n",
      "  util.warn(\n"
     ]
    }
   ],
   "source": [
    "c1 = Comentario(contenido='comentario de prueba3')\n"
   ]
  },
  {
   "cell_type": "code",
   "execution_count": 5,
   "metadata": {},
   "outputs": [],
   "source": [
    "u1 = Usuario(username='prueba', password='1234', email='prueba@gmail.com')\n",
    "p1 = Movie(id=588228)"
   ]
  },
  {
   "cell_type": "code",
   "execution_count": 6,
   "metadata": {},
   "outputs": [],
   "source": [
    "up = session.query(Usuario).filter(Usuario.username==u1.username).first()\n",
    "peli = session.query(Movie).filter(Movie.id==p1.id).first()"
   ]
  },
  {
   "cell_type": "code",
   "execution_count": 7,
   "metadata": {},
   "outputs": [
    {
     "ename": "AttributeError",
     "evalue": "'NoneType' object has no attribute 'comments'",
     "output_type": "error",
     "traceback": [
      "\u001b[1;31m---------------------------------------------------------------------------\u001b[0m",
      "\u001b[1;31mAttributeError\u001b[0m                            Traceback (most recent call last)",
      "\u001b[1;32m<ipython-input-7-8e07aeccf6c5>\u001b[0m in \u001b[0;36m<module>\u001b[1;34m\u001b[0m\n\u001b[0;32m      1\u001b[0m \u001b[0mup\u001b[0m\u001b[1;33m.\u001b[0m\u001b[0mcomments\u001b[0m\u001b[1;33m.\u001b[0m\u001b[0mappend\u001b[0m\u001b[1;33m(\u001b[0m\u001b[0mc1\u001b[0m\u001b[1;33m)\u001b[0m\u001b[1;33m\u001b[0m\u001b[1;33m\u001b[0m\u001b[0m\n\u001b[1;32m----> 2\u001b[1;33m \u001b[0mpeli\u001b[0m\u001b[1;33m.\u001b[0m\u001b[0mcomments\u001b[0m\u001b[1;33m.\u001b[0m\u001b[0mappend\u001b[0m\u001b[1;33m(\u001b[0m\u001b[0mc1\u001b[0m\u001b[1;33m)\u001b[0m\u001b[1;33m\u001b[0m\u001b[1;33m\u001b[0m\u001b[0m\n\u001b[0m",
      "\u001b[1;31mAttributeError\u001b[0m: 'NoneType' object has no attribute 'comments'"
     ]
    }
   ],
   "source": [
    "up.comments.append(c1)\n",
    "peli.comments.append(c1)"
   ]
  },
  {
   "cell_type": "code",
   "execution_count": 21,
   "metadata": {},
   "outputs": [],
   "source": [
    "session.add(c1)\n",
    "session.commit()"
   ]
  },
  {
   "cell_type": "markdown",
   "metadata": {},
   "source": [
    "# PRUEBA 2"
   ]
  },
  {
   "cell_type": "code",
   "execution_count": null,
   "metadata": {},
   "outputs": [],
   "source": [
    "from sqlalchemy import Column, Integer, String, ForeignKey, Table\n",
    "from sqlalchemy.orm import relationship\n",
    "from sqlalchemy.ext.declarative import declarative_base\n",
    "\n",
    "Base = declarative_base()"
   ]
  },
  {
   "cell_type": "code",
   "execution_count": null,
   "metadata": {},
   "outputs": [],
   "source": [
    "class Usuario(Base):\n",
    "\n",
    "    __tablename__ = 'usuario'\n",
    "    id = Column(Integer, primary_key = True, autoincrement = True)\n",
    "    username = Column(String(250), unique = True)\n",
    "    password = Column(String(250))\n",
    "    email = Column(String(250))\n",
    "\n",
    "    comments = relationship(\"Comentario\", backref='user')\n",
    "\n",
    "class Comentario(Base):\n",
    "    __tablename__ = 'comentario'\n",
    "\n",
    "    id = Column(Integer, primary_key = True, autoincrement = True)\n",
    "    contenido = Column(String(250))\n",
    "    id_usuario = Column(Integer, ForeignKey('usuario.id'), unique = False)\n",
    "    id_pelicula = Column(Integer, ForeignKey('pelicula.id'), unique = False)\n",
    "\n",
    "class Movie(Base):\n",
    "    __tablename__ = 'pelicula'\n",
    "    \n",
    "    id = Column(Integer, primary_key = True)\n",
    "    titulo = Column(String(250), unique = True)\n",
    "    \n",
    "    comments = relationship(\"Comentario\", backref='movie')\n",
    "    generos = relationship(\"Genero\", secondary = \"genre_movie\", back_populates = \"peliculas\")\n",
    "\n",
    "class Genero(Base):\n",
    "    __tablename__ = 'genero'\n",
    "    \n",
    "    id = Column(Integer, primary_key = True)\n",
    "    nombre = Column(String(255))\n",
    "    \n",
    "    peliculas = relationship(\"Movie\", secondary = \"genre_movie\", back_populates = \"generos\")\n",
    "\n",
    "class GenreMovie(Base):\n",
    "    __tablename__ = 'genre_movie'\n",
    "    \n",
    "    id_movie = Column(Integer, ForeignKey('pelicula.id'), primary_key=True)\n",
    "    id_genero = Column(Integer, ForeignKey('genero.id'), primary_key=True)\n",
    "    \n",
    "    pelicula = relationship(\"Movie\", backref = \"genre_movie\")\n",
    "    genero = relationship(\"Genero\", backref = \"genre_movie\")\n"
   ]
  },
  {
   "cell_type": "code",
   "execution_count": null,
   "metadata": {},
   "outputs": [],
   "source": [
    "from sqlalchemy import create_engine\n",
    "from sqlalchemy.orm import sessionmaker\n",
    "engine = create_engine('sqlite:///app/database/tpidatabase2.db')\n",
    "Base.metadata.bind = engine\n",
    "Session = sessionmaker(bind=engine)\n",
    "session = Session()\n",
    "\n",
    "try:\n",
    "    Base.metadata.create_all(engine)\n",
    "except:\n",
    "    pass"
   ]
  },
  {
   "cell_type": "code",
   "execution_count": null,
   "metadata": {},
   "outputs": [],
   "source": [
    "import requests\n",
    "api_key = \"25398bd0f8e1460f3769b59bfbf5eea6\"  \n",
    "def movie(movie_: Movie) -> Movie:\n",
    "    id_ = str(movie_.id)\n",
    "    query = (requests.get(\"https://api.themoviedb.org/3/movie/\"+id_+\"?api_key=\"+api_key+\"&language=es-ES\")).json()\n",
    "    genres = query['genres']\n",
    "    peli = Movie(id = query['id'],\n",
    "            titulo = query['title'],\n",
    "            descripcion = query['overview'],\n",
    "            portada = \"https://image.tmdb.org/t/p/w500/\"+query['poster_path'],\n",
    "            fecha = query['release_date'])\n",
    "    return peli\n"
   ]
  },
  {
   "cell_type": "code",
   "execution_count": null,
   "metadata": {},
   "outputs": [
    {
     "name": "stderr",
     "output_type": "stream",
     "text": [
      "D:\\Program files\\anaconda3\\lib\\site-packages\\sqlalchemy\\orm\\relationships.py:3441: SAWarning: relationship 'Movie.genre_movie' will copy column pelicula.id to column genre_movie.id_movie, which conflicts with relationship(s): 'Movie.generos' (copies pelicula.id to genre_movie.id_movie), 'Genero.peliculas' (copies pelicula.id to genre_movie.id_movie). If this is not the intention, consider if these relationships should be linked with back_populates, or if viewonly=True should be applied to one or more if they are read-only. For the less common case that foreign key constraints are partially overlapping, the orm.foreign() annotation can be used to isolate the columns that should be written towards.   The 'overlaps' parameter may be used to remove this warning. (Background on this error at: http://sqlalche.me/e/14/qzyx)\n",
      "  util.warn(\n",
      "D:\\Program files\\anaconda3\\lib\\site-packages\\sqlalchemy\\orm\\relationships.py:3441: SAWarning: relationship 'GenreMovie.pelicula' will copy column pelicula.id to column genre_movie.id_movie, which conflicts with relationship(s): 'Movie.generos' (copies pelicula.id to genre_movie.id_movie), 'Genero.peliculas' (copies pelicula.id to genre_movie.id_movie). If this is not the intention, consider if these relationships should be linked with back_populates, or if viewonly=True should be applied to one or more if they are read-only. For the less common case that foreign key constraints are partially overlapping, the orm.foreign() annotation can be used to isolate the columns that should be written towards.   The 'overlaps' parameter may be used to remove this warning. (Background on this error at: http://sqlalche.me/e/14/qzyx)\n",
      "  util.warn(\n",
      "D:\\Program files\\anaconda3\\lib\\site-packages\\sqlalchemy\\orm\\relationships.py:3441: SAWarning: relationship 'Genero.genre_movie' will copy column genero.id to column genre_movie.id_genero, which conflicts with relationship(s): 'Movie.generos' (copies genero.id to genre_movie.id_genero), 'Genero.peliculas' (copies genero.id to genre_movie.id_genero). If this is not the intention, consider if these relationships should be linked with back_populates, or if viewonly=True should be applied to one or more if they are read-only. For the less common case that foreign key constraints are partially overlapping, the orm.foreign() annotation can be used to isolate the columns that should be written towards.   The 'overlaps' parameter may be used to remove this warning. (Background on this error at: http://sqlalche.me/e/14/qzyx)\n",
      "  util.warn(\n",
      "D:\\Program files\\anaconda3\\lib\\site-packages\\sqlalchemy\\orm\\relationships.py:3441: SAWarning: relationship 'GenreMovie.genero' will copy column genero.id to column genre_movie.id_genero, which conflicts with relationship(s): 'Movie.generos' (copies genero.id to genre_movie.id_genero), 'Genero.peliculas' (copies genero.id to genre_movie.id_genero). If this is not the intention, consider if these relationships should be linked with back_populates, or if viewonly=True should be applied to one or more if they are read-only. For the less common case that foreign key constraints are partially overlapping, the orm.foreign() annotation can be used to isolate the columns that should be written towards.   The 'overlaps' parameter may be used to remove this warning. (Background on this error at: http://sqlalche.me/e/14/qzyx)\n",
      "  util.warn(\n"
     ]
    }
   ],
   "source": [
    "c1 = Comentario(contenido='comentario de prueba4')\n"
   ]
  },
  {
   "cell_type": "code",
   "execution_count": null,
   "metadata": {},
   "outputs": [],
   "source": [
    "u1 = Usuario(username='prueba', password='1234', email='prueba@gmail.com')\n",
    "p1 = Movie(id=588228)"
   ]
  },
  {
   "cell_type": "code",
   "execution_count": null,
   "metadata": {},
   "outputs": [],
   "source": [
    "up = session.query(Usuario).filter(Usuario.username==u1.username).first()\n",
    "peli = session.query(Movie).filter(Movie.id==p1.id).first()"
   ]
  },
  {
   "cell_type": "code",
   "execution_count": null,
   "metadata": {},
   "outputs": [
    {
     "ename": "AttributeError",
     "evalue": "'NoneType' object has no attribute 'comments'",
     "output_type": "error",
     "traceback": [
      "\u001b[1;31m---------------------------------------------------------------------------\u001b[0m\n",
      "\u001b[1;31mAttributeError\u001b[0m                            Traceback (most recent call last)\n",
      "\u001b[1;32m<ipython-input-7-8e07aeccf6c5>\u001b[0m in \u001b[0;36m<module>\u001b[1;34m\u001b[0m\n",
      "\u001b[0;32m      1\u001b[0m \u001b[0mup\u001b[0m\u001b[1;33m.\u001b[0m\u001b[0mcomments\u001b[0m\u001b[1;33m.\u001b[0m\u001b[0mappend\u001b[0m\u001b[1;33m(\u001b[0m\u001b[0mc1\u001b[0m\u001b[1;33m)\u001b[0m\u001b[1;33m\u001b[0m\u001b[1;33m\u001b[0m\u001b[0m\n",
      "\u001b[1;32m----> 2\u001b[1;33m \u001b[0mpeli\u001b[0m\u001b[1;33m.\u001b[0m\u001b[0mcomments\u001b[0m\u001b[1;33m.\u001b[0m\u001b[0mappend\u001b[0m\u001b[1;33m(\u001b[0m\u001b[0mc1\u001b[0m\u001b[1;33m)\u001b[0m\u001b[1;33m\u001b[0m\u001b[1;33m\u001b[0m\u001b[0m\n",
      "\u001b[0m\n",
      "\u001b[1;31mAttributeError\u001b[0m: 'NoneType' object has no attribute 'comments'"
     ]
    }
   ],
   "source": [
    "up.comments.append(c1)\n",
    "peli.comments.append(c1)"
   ]
  },
  {
   "cell_type": "code",
   "execution_count": null,
   "metadata": {},
   "outputs": [],
   "source": [
    "session.add(c1)\n",
    "session.commit()"
   ]
  },
  {
   "cell_type": "code",
   "execution_count": 5,
   "metadata": {},
   "outputs": [],
   "source": [
    "session.rollback()"
   ]
  },
  {
   "cell_type": "code",
   "execution_count": 4,
   "metadata": {},
   "outputs": [
    {
     "data": {
      "text/plain": [
       "[1, 2, 3, 4]"
      ]
     },
     "execution_count": 4,
     "metadata": {},
     "output_type": "execute_result"
    }
   ],
   "source": [
    "l = []\n",
    "l = [1,2,3,4]\n",
    "l"
   ]
  },
  {
   "cell_type": "code",
   "execution_count": 7,
   "metadata": {},
   "outputs": [
    {
     "data": {
      "text/plain": [
       "1"
      ]
     },
     "execution_count": 7,
     "metadata": {},
     "output_type": "execute_result"
    }
   ],
   "source": [
    "primero = l[0]\n",
    "primero"
   ]
  },
  {
   "cell_type": "code",
   "execution_count": null,
   "metadata": {},
   "outputs": [],
   "source": []
  }
 ],
 "metadata": {
  "interpreter": {
   "hash": "65a5d6a0ceec34fa378eb72132ece2d9d16b3f68cb770b1f1690468ace60ef46"
  },
  "kernelspec": {
   "display_name": "Python 3.8.8 64-bit ('base': conda)",
   "name": "python3"
  },
  "language_info": {
   "codemirror_mode": {
    "name": "ipython",
    "version": 3
   },
   "file_extension": ".py",
   "mimetype": "text/x-python",
   "name": "python",
   "nbconvert_exporter": "python",
   "pygments_lexer": "ipython3",
   "version": "3.8.8"
  }
 },
 "nbformat": 4,
 "nbformat_minor": 5
}
